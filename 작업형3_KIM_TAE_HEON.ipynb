{
 "cells": [
  {
   "cell_type": "markdown",
   "id": "386619e1",
   "metadata": {},
   "source": [
    "출처입니다.\n",
    "https://github.com/lovedlim/BigDataCertificationCourses"
   ]
  },
  {
   "cell_type": "markdown",
   "id": "0f9a6a55",
   "metadata": {},
   "source": [
    "### 대응 표본 t-검정"
   ]
  },
  {
   "cell_type": "code",
   "execution_count": 28,
   "id": "ca1a19df",
   "metadata": {},
   "outputs": [],
   "source": [
    "# 라이브러리\n",
    "import pandas as pd\n",
    "from scipy.stats import ttest_rel, ttest_ind, levene, ttest_1samp, f_oneway, shapiro, pearsonr"
   ]
  },
  {
   "cell_type": "code",
   "execution_count": 4,
   "id": "2703868d",
   "metadata": {},
   "outputs": [
    {
     "name": "stdout",
     "output_type": "stream",
     "text": [
      "<class 'pandas.core.frame.DataFrame'>\n",
      "RangeIndex: 120 entries, 0 to 119\n",
      "Data columns (total 5 columns):\n",
      " #   Column   Non-Null Count  Dtype \n",
      "---  ------   --------------  ----- \n",
      " 0   Id       120 non-null    object\n",
      " 1   sex      120 non-null    object\n",
      " 2   age      120 non-null    int64 \n",
      " 3   bp_pre   120 non-null    int64 \n",
      " 4   bp_post  120 non-null    int64 \n",
      "dtypes: int64(3), object(2)\n",
      "memory usage: 4.8+ KB\n"
     ]
    },
    {
     "data": {
      "text/html": [
       "<div>\n",
       "<style scoped>\n",
       "    .dataframe tbody tr th:only-of-type {\n",
       "        vertical-align: middle;\n",
       "    }\n",
       "\n",
       "    .dataframe tbody tr th {\n",
       "        vertical-align: top;\n",
       "    }\n",
       "\n",
       "    .dataframe thead th {\n",
       "        text-align: right;\n",
       "    }\n",
       "</style>\n",
       "<table border=\"1\" class=\"dataframe\">\n",
       "  <thead>\n",
       "    <tr style=\"text-align: right;\">\n",
       "      <th></th>\n",
       "      <th>Id</th>\n",
       "      <th>sex</th>\n",
       "      <th>age</th>\n",
       "      <th>bp_pre</th>\n",
       "      <th>bp_post</th>\n",
       "    </tr>\n",
       "  </thead>\n",
       "  <tbody>\n",
       "    <tr>\n",
       "      <th>0</th>\n",
       "      <td>p001</td>\n",
       "      <td>Male</td>\n",
       "      <td>33</td>\n",
       "      <td>149</td>\n",
       "      <td>129</td>\n",
       "    </tr>\n",
       "    <tr>\n",
       "      <th>1</th>\n",
       "      <td>p002</td>\n",
       "      <td>Male</td>\n",
       "      <td>39</td>\n",
       "      <td>168</td>\n",
       "      <td>168</td>\n",
       "    </tr>\n",
       "    <tr>\n",
       "      <th>2</th>\n",
       "      <td>p003</td>\n",
       "      <td>Male</td>\n",
       "      <td>70</td>\n",
       "      <td>176</td>\n",
       "      <td>155</td>\n",
       "    </tr>\n",
       "    <tr>\n",
       "      <th>3</th>\n",
       "      <td>p004</td>\n",
       "      <td>Female</td>\n",
       "      <td>41</td>\n",
       "      <td>169</td>\n",
       "      <td>178</td>\n",
       "    </tr>\n",
       "    <tr>\n",
       "      <th>4</th>\n",
       "      <td>p005</td>\n",
       "      <td>Male</td>\n",
       "      <td>48</td>\n",
       "      <td>160</td>\n",
       "      <td>126</td>\n",
       "    </tr>\n",
       "  </tbody>\n",
       "</table>\n",
       "</div>"
      ],
      "text/plain": [
       "     Id     sex  age  bp_pre  bp_post\n",
       "0  p001    Male   33     149      129\n",
       "1  p002    Male   39     168      168\n",
       "2  p003    Male   70     176      155\n",
       "3  p004  Female   41     169      178\n",
       "4  p005    Male   48     160      126"
      ]
     },
     "execution_count": 4,
     "metadata": {},
     "output_type": "execute_result"
    }
   ],
   "source": [
    "df = pd.read_csv(\"./high_blood_pressure.csv\")\n",
    "\n",
    "df.info()\n",
    "df.head()"
   ]
  },
  {
   "cell_type": "code",
   "execution_count": 6,
   "id": "4f832a0f",
   "metadata": {},
   "outputs": [
    {
     "name": "stdout",
     "output_type": "stream",
     "text": [
      "μ의 표본 평균 = -6.12\n"
     ]
    }
   ],
   "source": [
    "# μ의 표본 평균은(소수점 둘째 자리까지 반올림)\n",
    "df[\"diff\"] = df[\"bp_post\"] - df[\"bp_pre\"]\n",
    "\n",
    "mean_mu = round(df[\"diff\"].mean(), 2)\n",
    "\n",
    "print(\"μ의 표본 평균 =\", mean_mu)"
   ]
  },
  {
   "cell_type": "code",
   "execution_count": 7,
   "id": "7aede376",
   "metadata": {},
   "outputs": [
    {
     "name": "stdout",
     "output_type": "stream",
     "text": [
      "Ttest_relResult(statistic=-3.0002163948827545, pvalue=0.0016434474228511028)\n"
     ]
    }
   ],
   "source": [
    "result = ttest_rel(df[\"bp_post\"], df[\"bp_pre\"], alternative=\"less\")\n",
    "\n",
    "print(result)"
   ]
  },
  {
   "cell_type": "code",
   "execution_count": 8,
   "id": "79db97d8",
   "metadata": {},
   "outputs": [
    {
     "name": "stdout",
     "output_type": "stream",
     "text": [
      "검정 통계량 = -3.0002\n",
      "p-값 = 0.0016\n",
      "유의 수준 5%에서 p-value가 0.05보다 작으므로 귀무가설 기각, 해당 치료의 효과가 있다고 볼 수도 있다.\n"
     ]
    }
   ],
   "source": [
    "# 검정 통계량 값\n",
    "print(\"검정 통계량 =\", round(result[0],4))\n",
    "\n",
    "# p-value\n",
    "print(\"p-값 =\", round(result[1], 4))\n",
    "\n",
    "# 가설 검정의 결과는\n",
    "print(\"유의 수준 5%에서 p-value가 0.05보다 작으므로 귀무가설 기각, 해당 치료의 효과가 있다고 볼 수도 있다.\")"
   ]
  },
  {
   "cell_type": "markdown",
   "id": "db4a76ab",
   "metadata": {},
   "source": [
    "### 독립 표본 t-검정"
   ]
  },
  {
   "cell_type": "code",
   "execution_count": 9,
   "id": "b88192e2",
   "metadata": {},
   "outputs": [],
   "source": [
    "# 두 그룹의 체온 비교\n",
    "\n",
    "group1 = [36.8, 36.7, 37.1, 36.9, 37.2, 36.8, 36.9, 37.1, 36.7, 37.1]\n",
    "group2 = [36.5, 36.6, 36.3, 36.6, 36.9, 36.7, 36.7, 36.8, 36.5, 36.7]"
   ]
  },
  {
   "cell_type": "code",
   "execution_count": 11,
   "id": "1d61184d",
   "metadata": {},
   "outputs": [
    {
     "name": "stdout",
     "output_type": "stream",
     "text": [
      "LeveneResult(statistic=0.40657578187652227, pvalue=0.5317406999027833)\n"
     ]
    }
   ],
   "source": [
    "# 등분산성 검정\n",
    "\n",
    "lev = levene(group1, group2, center=\"mean\")\n",
    "\n",
    "print(lev)"
   ]
  },
  {
   "cell_type": "code",
   "execution_count": 13,
   "id": "fdf8eb43",
   "metadata": {},
   "outputs": [
    {
     "name": "stdout",
     "output_type": "stream",
     "text": [
      "검정 통계량 = 3.7964\n",
      "p-값 = 0.0013\n",
      "유의 수준 5%에서 p-value가 0.05보다 작으므로 귀무가설 기각, 대립가설 채택\n"
     ]
    }
   ],
   "source": [
    "# 독립 표본 t-검정\n",
    "result2 = ttest_ind(group1, group2, equal_var=True)\n",
    "\n",
    "# 검정 통계량 값\n",
    "print(\"검정 통계량 =\", round(result2[0],4))\n",
    "\n",
    "# p-value\n",
    "print(\"p-값 =\", round(result2[1], 4))\n",
    "\n",
    "# 가설 검정의 결과는\n",
    "print(\"유의 수준 5%에서 p-value가 0.05보다 작으므로 귀무가설 기각, 대립가설 채택\")"
   ]
  },
  {
   "cell_type": "markdown",
   "id": "81e20ced",
   "metadata": {},
   "source": [
    "### 단일 표본 t-검정"
   ]
  },
  {
   "cell_type": "code",
   "execution_count": 6,
   "id": "987d2922",
   "metadata": {},
   "outputs": [
    {
     "name": "stdout",
     "output_type": "stream",
     "text": [
      "유의 수준 5%에서 귀무가설 기각, 대립가설 채택, 학생들의 평균은 75보다 클 수도 있습니다.\n"
     ]
    }
   ],
   "source": [
    "# 다음은 22명의 학생들이 국어시험에서 받은 점수이다. 학생들의 평균이 75보다 크다고 할 수 있는가?\n",
    "\n",
    "scores = [75, 80, 68, 72, 77, 82, 81, 79, 70, 74, 76, 78, 81, 73, 81, 78, 75, 72, 74, 79, 78, 79]\n",
    "\n",
    "mean_pop = 75\n",
    "\n",
    "# H0 : 학생들의 평균은 75보다 크지 않다.   μ <= 75\n",
    "# H1 : 학생들의 평균은 75보다 크다.   μ > 75\n",
    "\n",
    "result = ttest_1samp(scores, mean_pop, alternative=\"greater\")\n",
    "\n",
    "if result[1] > 0.05 : # 유의 수준 5%\n",
    "    print(\"유의 수준 5%에서 귀무가설 채택, 학생들의 평균은 75보다 크다고 말할 수 없습니다.\")\n",
    "    \n",
    "else : \n",
    "    print(\"유의 수준 5%에서 귀무가설 기각, 대립가설 채택, 학생들의 평균은 75보다 클 수도 있습니다.\")"
   ]
  },
  {
   "cell_type": "markdown",
   "id": "e30c34c7",
   "metadata": {},
   "source": [
    "### ANOVA"
   ]
  },
  {
   "cell_type": "code",
   "execution_count": 12,
   "id": "87bcd4cd",
   "metadata": {},
   "outputs": [
    {
     "name": "stdout",
     "output_type": "stream",
     "text": [
      "F_onewayResult(statistic=16.884107946026987, pvalue=1.752985223798021e-05)\n",
      "유의 수준 5%에서 귀무가설 기각, 대립가설 채택, 세 그룹의 평균에 차이가 있다고도 할 수 있습니다.\n"
     ]
    }
   ],
   "source": [
    "# 세 가지 다른 교육 방법(A, B, C)을 사용하여 수험생들의 시험 성적을 개선시키는 효과를 평가하고자 한다. \n",
    "# 30명의 학생들을 무작위로 세 그룹으로 배정하여 교육을 실시하였고, 시험을 보고 성적을 측정하였습니다. \n",
    "# 다음은 각 그룹의 학생들의 성적 데이터입니다.\n",
    "\n",
    "groupA = [85, 92, 78, 88, 83, 90, 76, 84, 92, 87]\n",
    "groupB = [79, 69, 84, 78, 79, 83, 79, 81, 86, 88]\n",
    "groupC = [75, 68, 74, 65, 77, 72, 70, 73, 78, 75]\n",
    "\n",
    "# H0 : 세 그룹의 평균의 차이가 없다\n",
    "# H1 : 세 그룹의 평균의 차이가 있다.\n",
    "\n",
    "result = f_oneway(groupA, groupB, groupC)\n",
    "\n",
    "print(result)\n",
    "\n",
    "if result[1] > 0.05 : # 유의 수준 5%\n",
    "    print(\"유의 수준 5%에서 귀무가설 채택, 세 그룹의 평균에 차이가 없다고 할 수 있습니다.\")\n",
    "    \n",
    "else : \n",
    "    print(\"유의 수준 5%에서 귀무가설 기각, 대립가설 채택, 세 그룹의 평균에 차이가 있다고도 할 수 있습니다.\")"
   ]
  },
  {
   "cell_type": "markdown",
   "id": "0aa2bb1f",
   "metadata": {},
   "source": [
    "### shapiro-wilk 검정"
   ]
  },
  {
   "cell_type": "code",
   "execution_count": 18,
   "id": "0f44f66b",
   "metadata": {},
   "outputs": [
    {
     "name": "stdout",
     "output_type": "stream",
     "text": [
      "ShapiroResult(statistic=0.9768090844154358, pvalue=0.9676500558853149)\n",
      "유의 수준 5%에서 귀무가설 채택, 수험생의 점수는 정규 분포를 따른다고 할 수 있습니다.\n"
     ]
    }
   ],
   "source": [
    "# 12명의 수험생이 빅데이터 분석기사 시험에서 받은 점수이다. Shapiro-Wilk 검정을 사용하여 데이터가 정규 분포를 따르는지 검증하시오\n",
    "\n",
    "data = [75, 83, 81, 92, 68, 77, 78, 80, 85, 95, 79, 89]\n",
    "\n",
    "# H0 : 수험생의 점수는 정규 분포를 따른다.\n",
    "# H1 : 수험생의 점수는 정규 분포를 따르지 않는다.\n",
    "\n",
    "result = shapiro(data)\n",
    "\n",
    "print(result)\n",
    "\n",
    "if result[1] > 0.05 : # 유의 수준 5%\n",
    "    print(\"유의 수준 5%에서 귀무가설 채택, 수험생의 점수는 정규 분포를 따른다고 할 수 있습니다.\")\n",
    "    \n",
    "else : \n",
    "    print(\"유의 수준 5%에서 귀무가설 기각, 대립가설 채택, 수험생의 점수는 정규 분포를 따른다고 할 수 없습니다.\")"
   ]
  },
  {
   "cell_type": "markdown",
   "id": "9ac07195",
   "metadata": {},
   "source": [
    "### 상관 계수"
   ]
  },
  {
   "cell_type": "code",
   "execution_count": 39,
   "id": "c0d129dc",
   "metadata": {},
   "outputs": [
    {
     "name": "stdout",
     "output_type": "stream",
     "text": [
      "두 변수의 상관 계수 = -0.12\n"
     ]
    }
   ],
   "source": [
    "# iris에서 Sepal Length와 Sepal Width의 상관계수 계산하고 소수 둘째자리까지 출력하시오\n",
    "\n",
    "from sklearn.datasets import load_iris\n",
    "\n",
    "df = pd.DataFrame(data=load_iris().data, columns=load_iris().feature_names)\n",
    "\n",
    "SL = df[\"sepal length (cm)\"]\n",
    "\n",
    "SW = df[\"sepal width (cm)\"]\n",
    "\n",
    "cor = pearsonr(SL, SW)\n",
    "\n",
    "print(\"두 변수의 상관 계수 =\", round(cor[0], 2))"
   ]
  }
 ],
 "metadata": {
  "kernelspec": {
   "display_name": "Python 3 (ipykernel)",
   "language": "python",
   "name": "python3"
  },
  "language_info": {
   "codemirror_mode": {
    "name": "ipython",
    "version": 3
   },
   "file_extension": ".py",
   "mimetype": "text/x-python",
   "name": "python",
   "nbconvert_exporter": "python",
   "pygments_lexer": "ipython3",
   "version": "3.9.6"
  }
 },
 "nbformat": 4,
 "nbformat_minor": 5
}
