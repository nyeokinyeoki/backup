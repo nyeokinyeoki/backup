{
 "cells": [
  {
   "cell_type": "markdown",
   "id": "c3099e33",
   "metadata": {},
   "source": [
    "## statsmodels를 활용한 로지스틱 회귀"
   ]
  },
  {
   "cell_type": "code",
   "execution_count": 38,
   "id": "7bbc891c",
   "metadata": {},
   "outputs": [
    {
     "name": "stdout",
     "output_type": "stream",
     "text": [
      "Optimization terminated successfully.\n",
      "         Current function value: 0.459658\n",
      "         Iterations 6\n"
     ]
    },
    {
     "data": {
      "text/plain": [
       "Intercept    3.459608\n",
       "Pclass      -0.939161\n",
       "Sex         -2.762364\n",
       "SibSp       -0.234018\n",
       "Parch       -0.050260\n",
       "dtype: float64"
      ]
     },
     "execution_count": 38,
     "metadata": {},
     "output_type": "execute_result"
    }
   ],
   "source": [
    "import pandas as pd\n",
    "\n",
    "from sklearn.preprocessing import LabelBinarizer\n",
    "# from sklearn.linear_model import LogisticRegression\n",
    "from statsmodels.formula.api import logit\n",
    "\n",
    "titanic = pd.read_csv(\"./data/csv/titanic.csv\")\n",
    "\n",
    "# print(titanic.columns)\n",
    "lb = LabelBinarizer()\n",
    "\n",
    "lb_sex = lb.fit_transform(titanic[\"Sex\"])\n",
    "\n",
    "titanic[\"Sex\"] = lb_sex\n",
    "\n",
    "# print(X)\n",
    "\n",
    "# LR = LogisticRegression()\n",
    "\n",
    "# LR.fit(X, y)\n",
    "\n",
    "# # help(LR)\n",
    "\n",
    "# # print(LR.feature_names_in_)\n",
    "\n",
    "# print(LR.coef_)\n",
    "\n",
    "# print(\"parch 변수의 계수 값은 \",LR.coef_[0][-1])\n",
    "\n",
    "formula = \"Survived ~ Pclass + Sex + SibSp + Parch\"\n",
    "\n",
    "lr = logit(formula, data=titanic).fit()\n",
    "\n",
    "lr.params"
   ]
  },
  {
   "cell_type": "markdown",
   "id": "7ea36c58",
   "metadata": {},
   "source": [
    "## 독립 표본 t test와 F 분포를 통한 평균 비교"
   ]
  },
  {
   "cell_type": "markdown",
   "id": "0b7547eb",
   "metadata": {},
   "source": [
    "연구자는 두 가지 다른 교육 방법이 학생들의 성적에 미치는 영향을 비교하고자 합니다. 연구자는 무작위로 선발된 20명의 학생들을 두 그룹으로 나누어 한 그룹에는 교육 방법 A를, 다른 그룹에는 교육 방법 B를 적용합니다. 교육이 끝난 후, 두 그룹의 성적을 비교하기 위해 독립 표본 t-검정과 ANOVA F-검정을 실시하려고 합니다.\n",
    "\n",
    "다음은 두 그룹의 성적입니다: 다음의 두 가지 검정을 사용하여 두 교육 방법 간의 성적 차이가 통계적으로 유의한지를 검증하세요\n",
    "\n",
    "1. 독립 표본 t-검정을 실시하여 t 통계량을 구하세요.\n",
    "2. 독립 표본 t-검정을 실시하여 p-값을 구하세요.\n",
    "3. ANOVA F-검정을 실시하여 F 통계량을 구하세요.\n",
    "4. ANOVA F-검정을 실시하여 p-값을 구하세요."
   ]
  },
  {
   "cell_type": "code",
   "execution_count": 48,
   "id": "929aae4a",
   "metadata": {},
   "outputs": [
    {
     "name": "stdout",
     "output_type": "stream",
     "text": [
      "LeveneResult(statistic=0.04585987261146485, pvalue=0.8328379126548802)\n",
      "귀무가설 채택, 두 집단은 등분산이라 가정할 수 있습니다.\n",
      "1번 문제의 답 : 3.106852\n",
      "2번 문제의 답 : 0.006087\n",
      "3번 문제의 답 : 9.652531\n",
      "4번 문제의 답 : 0.006087\n"
     ]
    }
   ],
   "source": [
    "import pandas as pd\n",
    "from scipy.stats import ttest_ind, f_oneway, levene\n",
    "\n",
    "df = pd.DataFrame({\n",
    "    'A':[77, 75, 82, 80, 81, 83, 84, 76, 75, 87],\n",
    "    'B':[80, 74, 77, 79, 71, 74, 78, 69, 70, 72],\n",
    "})\n",
    "\n",
    "lev = levene(df[\"A\"], df[\"B\"])\n",
    "\n",
    "print(lev)\n",
    "\n",
    "if lev[1] < 0.05 : \n",
    "    print(\"귀무가설 기각, 대립가설 채택, 두 집단은 등분산이라 가정할 수 없습니다.\")\n",
    "    \n",
    "else : \n",
    "    print(\"귀무가설 채택, 두 집단은 등분산이라 가정할 수 있습니다.\")\n",
    "\n",
    "\n",
    "result_t = ttest_ind(df[\"A\"], df[\"B\"], equal_var=True, alternative=\"two-sided\")\n",
    "\n",
    "print(\"1번 문제의 답 :\", round(result_t[0], 6))\n",
    "print(\"2번 문제의 답 :\", round(result_t[1], 6))\n",
    "\n",
    "result_f = f_oneway(df[\"A\"], df[\"B\"])\n",
    "\n",
    "print(\"3번 문제의 답 :\", round(result_f[0], 6))\n",
    "print(\"4번 문제의 답 :\", round(result_f[1], 6))\n",
    "\n",
    "# help(f_oneway)"
   ]
  },
  {
   "cell_type": "markdown",
   "id": "812f4c73",
   "metadata": {},
   "source": [
    "## 카이제곱 적합도 검정"
   ]
  },
  {
   "cell_type": "markdown",
   "id": "e937c5ce",
   "metadata": {},
   "source": [
    "고등학교에서는 졸업생들이 선택하는 대학 전공 분야의 선호도가 시간이 지남에 따라 변하지 않는다고 가정합니다. 학교 측은 최근 졸업생들의 전공 선택이 과거와 같은 패턴을 따르는지 알아보기 위해 적합도 검정을 실시하기로 결정했습니다.\n",
    "\n",
    "과거 자료에 따르면 졸업생들이 선택하는 전공의 분포는 다음과 같습니다:\n",
    "\n",
    "인문학: 20% 사회과학: 30% 자연과학: 25% 공학: 15% 기타: 10% 올해 졸업한 학생 200명의 전공 선택 분포는 다음과 같았습니다:\n",
    "\n",
    "인문학: 30명 사회과학: 60명 자연과학: 50명 공학: 40명 기타: 20명 이 데이터를 바탕으로, 졸업생들의 전공 선택 패턴이 과거와 유사한지를 알아보기 위해 카이제곱 적합도 검정을 실시해야 합니다. 유의 수준은 0.05로 설정합니다.\n",
    "\n",
    "1. 검정 통계량?\n",
    "2. p-value?\n",
    "3. 유의수준 하 귀무가설 기각 또는 채택?"
   ]
  },
  {
   "cell_type": "code",
   "execution_count": 58,
   "id": "f653e62f",
   "metadata": {},
   "outputs": [
    {
     "name": "stdout",
     "output_type": "stream",
     "text": [
      "[[40. 60. 50. 30. 20.]\n",
      " [30. 60. 50. 40. 20.]]\n",
      "Power_divergenceResult(statistic=5.833333333333334, pvalue=0.21194558437271782)\n"
     ]
    }
   ],
   "source": [
    "import numpy as np\n",
    "from scipy.stats import chisquare\n",
    "# from scipy import stats\n",
    "\n",
    "grad = 200\n",
    "\n",
    "past_ratio = [0.2, 0.3, 0.25, 0.15, 0.1]\n",
    "\n",
    "present = [30, 60, 50, 40, 20]\n",
    "\n",
    "past = [p*grad for p in past_ratio]\n",
    "\n",
    "# print(past)\n",
    "\n",
    "array = np.array([past, present])\n",
    "\n",
    "print(array)\n",
    "\n",
    "# help(stats)\n",
    "\n",
    "c2 = chisquare(f_obs=present, f_exp=past)\n",
    "\n",
    "print(c2)"
   ]
  },
  {
   "cell_type": "markdown",
   "id": "4a245c7b",
   "metadata": {},
   "source": [
    "## 지지도, 신뢰도, 향상도"
   ]
  },
  {
   "cell_type": "markdown",
   "id": "c0a4b243",
   "metadata": {},
   "source": [
    "1. 빼빼로'와 '딴짓초코'가 함께 팔린 거래의 지지도를 계산하세요.\n",
    "2. '빼빼로'가 팔린 거래 중에서 '빼빼로'와 '오징어칩'이 함께 팔린 거래의 신뢰도를 계산하세요.\n",
    "3. '빼빼로'와 '양조위빵'의 향상도를 계산하세요.  \n",
    "  \n",
    "지지도(A,B): A와 B가 함께 팔린 거래 횟수 / 전체 거래 횟수  \n",
    "신뢰도(A->B): A와 B가 함께 팔린 거래 횟수 / A가 팔린 거래 횟수  \n",
    "향상도(A,B): 신뢰도(A->B) / 지지도(B)  >> P(A∩B) / {P(A) * P(B)}"
   ]
  },
  {
   "cell_type": "code",
   "execution_count": 65,
   "id": "de82e2ab",
   "metadata": {},
   "outputs": [
    {
     "name": "stdout",
     "output_type": "stream",
     "text": [
      "1번 문제 정답 : 지지도 =  0.2\n",
      "2번 문제 정답 : 신뢰도 =  0.5714285714285714\n",
      "3번 문제 정답 : 향상도 =  1.142857142857143\n"
     ]
    }
   ],
   "source": [
    "df = pd.DataFrame({\n",
    "    'transaction': [1, 2, 3, 4, 5, 6, 7, 8, 9, 10],\n",
    "    '빼빼로': [1, 0, 1, 1, 0, 1, 1, 0, 1, 1],\n",
    "    '딴짓초코': [0, 1, 1, 0, 1, 0, 1, 1, 0, 0],\n",
    "    '양조위빵': [1, 0, 0, 1, 1, 1, 0, 0, 1, 0],\n",
    "    '오징어칩': [0, 1, 1, 0, 0, 1, 0, 1, 1, 1],\n",
    "    '초코파이': [1, 1, 0, 0, 1, 0, 1, 1, 0, 0]\n",
    "})\n",
    "\n",
    "len_all = df.shape[0]  # 전체 데이터 개수\n",
    "\n",
    "len_paparo = df[(df[\"빼빼로\"]==1)].shape[0]   # 빼빼로가 팔린 횟수\n",
    "\n",
    "len_yang = df[(df[\"양조위빵\"]==1)].shape[0]   # 양조위빵이 팔린 횟수\n",
    "\n",
    "len_paddan = df[(df[\"빼빼로\"]==1) & (df[\"딴짓초코\"]==1)].shape[0]    # 빼빼로와 딴짓초코가 같이 팔린 횟수\n",
    "\n",
    "len_paoz = df[(df[\"빼빼로\"]==1) & (df[\"오징어칩\"]==1)].shape[0]    # 빼빼로와 오징어칩 같이 팔린 횟수\n",
    "\n",
    "len_payang = df[(df[\"빼빼로\"]==1) & (df[\"양조위빵\"]==1)].shape[0]    # 빼빼로와 양조위빵 같이 팔린 횟수\n",
    "\n",
    "print(\"1번 문제 정답 : 지지도 = \", len_paddan/len_all)\n",
    "print(\"2번 문제 정답 : 신뢰도 = \", len_paoz/len_paparo)\n",
    "print(\"3번 문제 정답 : 향상도 = \", (len_payang / len_all)/((len_paparo / len_all) * (len_yang / len_all)))"
   ]
  },
  {
   "cell_type": "markdown",
   "id": "d3c1cb45",
   "metadata": {},
   "source": [
    "## 포아송 분포"
   ]
  },
  {
   "cell_type": "markdown",
   "id": "08c56e29",
   "metadata": {},
   "source": [
    "문제: 한 서점에서는 평균적으로 하루에 3명의 고객이 특정 잡지를 구매합니다. 이 데이터는 포아송 분포를 따른다고 가정할 때, 다음 질문에 대한 답을 구하세요.\n",
    "\n",
    "1. 하루에 정확히 5명의 고객이 잡지를 구매할 확률은 얼마입니까? (%로 값을 정수로 입력하시오)\n",
    "2. 하루에 적어도 2명의 고객이 잡지를 구매할 확률은 얼마입니까? (%로 값을 정수로 입력하시오)"
   ]
  },
  {
   "cell_type": "code",
   "execution_count": 85,
   "id": "6f82fb3f",
   "metadata": {},
   "outputs": [
    {
     "name": "stdout",
     "output_type": "stream",
     "text": [
      "1번 문제 정답 : 10 %\n",
      "2번 문제 정답 : 80 %\n"
     ]
    }
   ],
   "source": [
    "from scipy.stats import poisson\n",
    "\n",
    "mu = 3\n",
    "\n",
    "# 1번 문제\n",
    "\n",
    "result1 = poisson.pmf(k=5, mu=mu)\n",
    "\n",
    "print(\"1번 문제 정답 :\", int(100*float(result1)),\"%\")\n",
    "\n",
    "# 2번 문제\n",
    "\n",
    "\n",
    "one_prob = poisson.cdf(k=1, mu=mu)  # 2명이 잡지를 구매할 확률\n",
    "\n",
    "# poisson.cdf의 k값이 n일 경우,\n",
    "# 0, 1, 2, 3, ..... , n-1, n까지 발생활 확률을 전부 출력해 줌\n",
    "\n",
    "result2 = 1 - one_prob\n",
    "\n",
    "print(\"2번 문제 정답 :\", int(100*float(result2)),\"%\")"
   ]
  },
  {
   "cell_type": "markdown",
   "id": "3171273a",
   "metadata": {},
   "source": [
    "## 독립성 검정"
   ]
  },
  {
   "cell_type": "markdown",
   "id": "9b501454",
   "metadata": {},
   "source": [
    "성별과 시험합격은 독립적인가를 검정하시오!\n",
    "1. 검정 통계량?\n",
    "2. p-value?\n",
    "3. 귀무가설 기준 (기각/채택)?\n",
    "4. 남자의 합격 기대 빈도?"
   ]
  },
  {
   "cell_type": "code",
   "execution_count": 93,
   "id": "214bff66",
   "metadata": {},
   "outputs": [
    {
     "name": "stdout",
     "output_type": "stream",
     "text": [
      "1번 문제 답 = 5.929494712103407\n",
      "2번 문제 답 = 0.01488951060599475\n",
      "3번 문제 답 = 유의수준 5%에서 p-value가 0.05보다 작으므로 귀무가설 기각, 성별과 시험 합격은 독립이 아닐 수 있다.\n",
      "4번 문제 답 = 115.0\n"
     ]
    }
   ],
   "source": [
    "import numpy as np\n",
    "from scipy.stats import chi2_contingency\n",
    "from scipy import stats\n",
    "\n",
    "men_pass = [100, 200]\n",
    "women_pass = [130, 170]\n",
    "\n",
    "chi_array = np.array([men_pass, women_pass])\n",
    "\n",
    "result = chi2_contingency(chi_array)\n",
    "\n",
    "\n",
    "# print(\"1번 문제 답 =\", result[0])\n",
    "print(\"1번 문제 답 = {0}\".format(result[0]))\n",
    "print(\"2번 문제 답 =\", result[1])\n",
    "\n",
    "print(\"3번 문제 답 =\", end=\" \")\n",
    "if result[1] < 0.05 : \n",
    "    print(\"유의수준 5%에서 p-value가 0.05보다 작으므로 귀무가설 기각, 성별과 시험 합격은 독립이 아닐 수 있다.\")\n",
    "else : \n",
    "    print(\"유의수준 5%에서 p-value가 0.05보다 작지 않으므로 귀무가설 채택, 성별과 시험 합격은 독립이다.\")\n",
    "    \n",
    "print(\"4번 문제 답 =\", result[-1][0,0])\n"
   ]
  },
  {
   "cell_type": "markdown",
   "id": "a695f08e",
   "metadata": {},
   "source": [
    "## 베르누이, 이항분포"
   ]
  },
  {
   "cell_type": "markdown",
   "id": "254878af",
   "metadata": {},
   "source": [
    "베르누이 분포와 이항분포\n",
    "1. 베르누이 분포 : 다음 데이터는 100번의 시도에서 각각 성공(1) 또는 실패(0)를 나타냅니다. 이 데이터를 바탕으로 각 시도의 성공 확률을 계산하시오.  \n",
    "2. 1번 문제에서 계산한 성공 확률을 사용하여, 100번의 시도 중 정확히 60번 성공할 확률을 계산하시오."
   ]
  },
  {
   "cell_type": "code",
   "execution_count": 110,
   "id": "5ef7cb42",
   "metadata": {},
   "outputs": [
    {
     "name": "stdout",
     "output_type": "stream",
     "text": [
      "0.62\n",
      "1번 문제 정답 = 0.62\n",
      "2번 문제 정답 = 0.07464985555860272\n"
     ]
    }
   ],
   "source": [
    "import pandas as pd\n",
    "from scipy.stats import binom\n",
    "\n",
    "# help(bernoulli)\n",
    "\n",
    "ber = pd.read_csv(\"./data/csv/t3_success.csv\")\n",
    "\n",
    "cnt_suc = ber.sum()\n",
    "\n",
    "# cnt_suc\n",
    "\n",
    "prob_suc = float(cnt_suc / ber.shape[0])\n",
    "\n",
    "print(prob_suc)\n",
    "\n",
    "print(\"1번 문제 정답 = {0}\".format(str(prob_suc)))\n",
    "\n",
    "\n",
    "result = binom.pmf(k=60, n=100, p=prob_suc)  # k는 관측하고자 하는 횟수, n은 전체 횟수, p는 관측하고자 하는 사건의 확률\n",
    "# help(binom)\n",
    "print(\"2번 문제 정답 = {0}\".format(str(result)))"
   ]
  },
  {
   "cell_type": "markdown",
   "id": "d757a7de",
   "metadata": {},
   "source": [
    "## 점추정, 구간추정"
   ]
  },
  {
   "cell_type": "markdown",
   "id": "310493c0",
   "metadata": {},
   "source": [
    "데이터셋은 어떤 도시의 일일 평균 온도 입니다.\n",
    "\n",
    "1. 점추정: 데이터셋을 기반으로 이 도시의 평균 연간 온도를 점추정하세요. (반올림하여 소수 둘째자리까지)  \n",
    "2. 구간추정: 95% 신뢰수준에서 이 도시의 평균 연간 온도에 대한 신뢰구간을 구하세요. (반올림하여 소수 둘째자리까지)"
   ]
  },
  {
   "cell_type": "code",
   "execution_count": 141,
   "id": "19c963e2",
   "metadata": {},
   "outputs": [
    {
     "name": "stdout",
     "output_type": "stream",
     "text": [
      "일일 평균 온도는 정규 분포를 따름\n",
      "1번 문제 정답 = 19.94\n",
      "1번 문제 정답 = (19.427887094620406, 20.44726799333667)\n"
     ]
    }
   ],
   "source": [
    "from scipy.stats import shapiro\n",
    "from scipy.stats import t\n",
    "import numpy as np\n",
    "\n",
    "df_mean = pd.read_csv(\"./data/csv/daily_temperatures.csv\")\n",
    "\n",
    "shap = shapiro(df_mean)\n",
    "\n",
    "if shap[1] > 0.05 : \n",
    "\n",
    "    print(\"일일 평균 온도는 정규 분포를 따름\")\n",
    "\n",
    "mean_temp = df_mean[\"Daily Average Temperature\"].mean()\n",
    "\n",
    "print(\"1번 문제 정답 = {}\".format(round(mean_temp, 2)))\n",
    "\n",
    "\n",
    "std = np.std(df_mean[\"Daily Average Temperature\"], ddof=1)  # ddof가 1이면 자유도가 n-1인 표준편차\n",
    "\n",
    "# help(t)\n",
    "result = t.interval(alpha=0.95, df=df_mean.shape[0]-1, loc=mean_temp, scale=std/(df_mean.shape[0]**0.5))  \n",
    "            # alpha는 신뢰 수준, df는 자유도, loc은 평균, scale은 표본집단의 표준편차\n",
    "\n",
    "print(\"1번 문제 정답 = {}\".format(result))\n"
   ]
  }
 ],
 "metadata": {
  "kernelspec": {
   "display_name": "Python 3 (ipykernel)",
   "language": "python",
   "name": "python3"
  },
  "language_info": {
   "codemirror_mode": {
    "name": "ipython",
    "version": 3
   },
   "file_extension": ".py",
   "mimetype": "text/x-python",
   "name": "python",
   "nbconvert_exporter": "python",
   "pygments_lexer": "ipython3",
   "version": "3.9.6"
  }
 },
 "nbformat": 4,
 "nbformat_minor": 5
}
