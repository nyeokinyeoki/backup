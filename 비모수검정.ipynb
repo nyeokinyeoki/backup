{
 "cells": [
  {
   "cell_type": "markdown",
   "id": "89d28654",
   "metadata": {},
   "source": [
    "# 비모수 검정"
   ]
  },
  {
   "cell_type": "markdown",
   "id": "e60bdf5b",
   "metadata": {},
   "source": [
    "## 맨 휘트니 검정(두 개의 독립된 집단 간의 평균 비교, 정규 분포를 따르지 않음)"
   ]
  },
  {
   "cell_type": "code",
   "execution_count": 2,
   "id": "38600352-4010-4477-98ce-30bba2586a6b",
   "metadata": {},
   "outputs": [
    {
     "data": {
      "text/plain": [
       "MannwhitneyuResult(statistic=30.5, pvalue=0.14969653984201395)"
      ]
     },
     "execution_count": 2,
     "metadata": {},
     "output_type": "execute_result"
    }
   ],
   "source": [
    "from scipy.stats import mannwhitneyu\n",
    "\n",
    "r1 = [63.5,51.5,63.1,50.7,63.0,63.3,63.5,63.7,64.5,64.3]\n",
    "r2 = [63.5,64.3,63.4,63.8,64.0,63.2,63.8,63.7,85.2,63.3]\n",
    "\n",
    "mannwhitneyu(r1, r2)"
   ]
  },
  {
   "cell_type": "markdown",
   "id": "0f8411e1",
   "metadata": {},
   "source": [
    "## 크루스칼 왈리스 검정(세 개 이상의 독립된 집단 간의 평균 비교, 정규 분포를 따르지 않음)"
   ]
  },
  {
   "cell_type": "code",
   "execution_count": 1,
   "id": "64f6500b",
   "metadata": {},
   "outputs": [
    {
     "data": {
      "text/plain": [
       "KruskalResult(statistic=2.4979750778816223, pvalue=0.28679501870464824)"
      ]
     },
     "execution_count": 1,
     "metadata": {},
     "output_type": "execute_result"
    }
   ],
   "source": [
    "from scipy.stats import kruskal\n",
    "\n",
    "thread2 = [84.6, 96.2, 96.4, 95.0, 93.9, 90.5, 91.8, 98.8, 91.0, 94.1]\n",
    "thread3 = [89.6, 93.7, 101.3, 94.2, 93.1, 117.9, 94.6, 95.7, 97.2, 92.5]\n",
    "thread4 = [91.9, 93.0, 97.4, 113.2, 99.9, 93.2, 93.8, 98.8, 101.2, 95.9]\n",
    "\n",
    "kruskal(thread2, thread3, thread4)"
   ]
  }
 ],
 "metadata": {
  "kernelspec": {
   "display_name": "Python 3 (ipykernel)",
   "language": "python",
   "name": "python3"
  },
  "language_info": {
   "codemirror_mode": {
    "name": "ipython",
    "version": 3
   },
   "file_extension": ".py",
   "mimetype": "text/x-python",
   "name": "python",
   "nbconvert_exporter": "python",
   "pygments_lexer": "ipython3",
   "version": "3.11.4"
  }
 },
 "nbformat": 4,
 "nbformat_minor": 5
}
