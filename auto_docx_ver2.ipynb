{
 "cells": [
  {
   "cell_type": "code",
   "execution_count": 1,
   "id": "5c2edbf4-fc4f-4b9b-af98-0289b87b8e61",
   "metadata": {},
   "outputs": [],
   "source": [
    "import pandas as pd\n",
    "import numpy as np\n",
    "import re\n",
    "import warnings\n",
    "\n",
    "warnings.filterwarnings('ignore')"
   ]
  },
  {
   "cell_type": "markdown",
   "id": "e4bd608e-98a4-4809-9ab6-6498016bc37b",
   "metadata": {},
   "source": [
    "## docx 파일에서 표 데이터 추출"
   ]
  },
  {
   "cell_type": "code",
   "execution_count": 28,
   "id": "e9f06165-4864-40f3-8814-827a64ab6f76",
   "metadata": {},
   "outputs": [],
   "source": [
    "df = pd.DataFrame(columns=['c1', 'c2', 'c3', 'c4', 'c5'])"
   ]
  },
  {
   "cell_type": "code",
   "execution_count": 20,
   "id": "4d8b2b57-02cc-4acf-ab3c-349bb155bd77",
   "metadata": {
    "scrolled": true
   },
   "outputs": [],
   "source": [
    "from docx import Document\n",
    "\n",
    "doc = Document('파일경로/파일명.docx')\n",
    "\n",
    "bool_reg = 0  # register 추출 기준\n",
    "bool_addr = 0  # address 추출 기준\n",
    "\n",
    "num_df_row = 0   # 데이터프레임 .loc\n",
    "\n",
    "for table in doc.tables : \n",
    "    num_row = 1  # 테이블마다 행 count\n",
    "    check_reg = 0  # higher_datas와 lower_datas 저장 기준\n",
    "    \n",
    "    for row in table.rows : \n",
    "        num_cell = 0\n",
    "        num_data = 1\n",
    "        higher_datas = []  # 상위 데이터 리스트\n",
    "        lower_datas = []  # 하위 데이터 리스트\n",
    "        \n",
    "        for cell in row.cells : \n",
    "            c = cell.text\n",
    "                \n",
    "            if (bool_reg == 1) and (c != 'c_name2') and (num_cell == 0):   # 첫 번째 행 데이터에 도달하면\n",
    "                reg = c\n",
    "                num_cell = 1\n",
    "\n",
    "            elif (bool_addr == 1) and (c != 'c_name3') and (num_cell == 0):  # 두 번째 행 데이터에 도달하면\n",
    "                higher_datas.append(c)  # c 추가\n",
    "                higher_datas.append('32.')\n",
    "                higher_datas.append(reg)  # 위 if문 데이터 추가\n",
    "                num_cell = 1\n",
    "                check_reg = 1\n",
    "\n",
    "            elif (num_row >= 4) and (check_reg== 1) and(num_data == 1) : \n",
    "                lower_datas.append(c)  # 하위 데이터에 bit 추가\n",
    "                num_data += 1\n",
    "            elif (num_row >= 4) and (check_reg== 1) and (num_data == 2) :\n",
    "                lower_datas.insert(0,c)  # 하위 데이터에 name 추가\n",
    "                num_data += 1\n",
    "            elif (num_row >= 4) and (check_reg== 1) and (num_data == 3) :\n",
    "                lower_datas.append(c)  # 하위 데이터에 type 추가\n",
    "                num_data += 1\n",
    "            elif (num_row >= 4) and (check_reg== 1) and (num_data == 4) :\n",
    "                num_data += 1  # 4번째 건너뛰기\n",
    "            elif (num_row >= 4) and (check_reg== 1) and (num_data == 5) :    \n",
    "                num_data = 1  # 5번째 건너뒤고 num_data 초기화\n",
    "            ################################################    \n",
    "            if c == 'c_name1' :\n",
    "                bool_reg = 1\n",
    "                check_reg = 0\n",
    "            elif c == 'c_name2' :\n",
    "                num_cell = 0 # num_cell 초기화\n",
    "                bool_reg = 0 # bool_reg 초기화\n",
    "                bool_addr = 1\n",
    "            elif c == 'c_name3' : \n",
    "                num_cell = 0 # num_cell 초기화\n",
    "                bool_addr = 0 # bool_addr 초기화\n",
    "            #############################################\n",
    "        num_row += 1\n",
    "        #################################################\n",
    "        if len(higher_datas) != 0 :\n",
    "            higher_datas.append('빈 칸')  # 공백 칸에 의미 없는 데이터 추가\n",
    "            higher_datas.append('빈 칸')  # 공백 칸에 의미 없는 데이터 추가\n",
    "            \n",
    "            df.loc[num_df_row] = higher_datas\n",
    "            \n",
    "            num_df_row += 1\n",
    "            \n",
    "        if len(lower_datas) != 0 :\n",
    "            lower_datas.insert(0,'빈 칸')  # 공백 칸에 의미 없는 데이터 추가\n",
    "            lower_datas.insert(0,'빈 칸')  # 공백 칸에 의미 없는 데이터 추가\n",
    "\n",
    "            df.loc[num_df_row] = lower_datas\n",
    "            \n",
    "            num_df_row += 1"
   ]
  },
  {
   "cell_type": "markdown",
   "id": "2d08bdf2-056e-4747-be33-e308e9263ca5",
   "metadata": {},
   "source": [
    "## 데이터프레임으로 변환 후 가공 >> csv 저장"
   ]
  },
  {
   "cell_type": "markdown",
   "id": "61063bf3-7898-4d84-b5ae-eac2a02cc4b2",
   "metadata": {},
   "source": [
    "### 1. Address 가공"
   ]
  },
  {
   "cell_type": "code",
   "execution_count": 21,
   "id": "c7acb4b0-7fbe-4bb8-a55f-4a8368c106b0",
   "metadata": {
    "scrolled": true
   },
   "outputs": [],
   "source": [
    "df['c1'] = df['c1'].map(lambda x : x[-2:] if x[-3] == '특정 문자1' else x[-3:])\n",
    "\n",
    "df['c1'] = df['c1'].map(lambda x : '특정 문자2'+x)\n",
    "\n",
    "df['c1'] = df['c1'].map(lambda x : '' if x == '특정 문자2빈 칸' else x)"
   ]
  },
  {
   "cell_type": "markdown",
   "id": "2cdf13e3-77a8-41ed-bfc2-3e1526dce1d7",
   "metadata": {},
   "source": [
    "### 2. From / To 가공"
   ]
  },
  {
   "cell_type": "code",
   "execution_count": 22,
   "id": "a20a3371-c5b4-4678-99c1-9d0cf8cccc30",
   "metadata": {},
   "outputs": [],
   "source": [
    "df = df.replace({\"빈 칸\":''})"
   ]
  },
  {
   "cell_type": "code",
   "execution_count": 23,
   "id": "cd044d09-4a2b-41f2-9049-aae32a91c780",
   "metadata": {},
   "outputs": [],
   "source": [
    "df['c7'] = df['c4'].map(lambda x : re.findall(r'^[0-9]+', x)[0]+\".\" if x != '' else x)\n",
    "df['c6'] = df['c4'].map(lambda x : re.findall(r'[0-9]+$', x)[0]+\".\" if x != '' else x)"
   ]
  },
  {
   "cell_type": "markdown",
   "id": "3635f147-7e93-455d-9544-f4146e7d534b",
   "metadata": {},
   "source": [
    "### 3. RW 교체"
   ]
  },
  {
   "cell_type": "code",
   "execution_count": 24,
   "id": "30d359d1-4661-4bd3-aed4-e69c0a945a01",
   "metadata": {},
   "outputs": [],
   "source": [
    "df['c5'] = df['c5'].replace({r'^W.*':'W로 시작하는 무언가'},regex=True)\n",
    "df['c5'] = df['c5'].replace({'R로 시작하는 무언가':\"R로 시작하는 무언가\", \"R\":\"R로 시작하는 무언가\"})"
   ]
  },
  {
   "cell_type": "markdown",
   "id": "71e201bb-4f48-4470-9044-8ab99cdd3d55",
   "metadata": {},
   "source": [
    "### 4. csv 저장"
   ]
  },
  {
   "cell_type": "code",
   "execution_count": 25,
   "id": "78f48d3a-58e3-4641-8d46-d254faeed850",
   "metadata": {},
   "outputs": [],
   "source": [
    "df[\"c8\"] = ''"
   ]
  },
  {
   "cell_type": "code",
   "execution_count": 26,
   "id": "e44fb8ec-35b6-4c75-8646-30ca9168f72d",
   "metadata": {
    "scrolled": true
   },
   "outputs": [],
   "source": [
    "df = df[[\"컬럼을 재정렬\"]]"
   ]
  },
  {
   "cell_type": "code",
   "execution_count": 27,
   "id": "568dd751-8f2c-4b85-b37b-d1dea43a8730",
   "metadata": {},
   "outputs": [],
   "source": [
    "df.to_csv('df_test.csv')"
   ]
  }
 ],
 "metadata": {
  "kernelspec": {
   "display_name": "Python 3 (ipykernel)",
   "language": "python",
   "name": "python3"
  },
  "language_info": {
   "codemirror_mode": {
    "name": "ipython",
    "version": 3
   },
   "file_extension": ".py",
   "mimetype": "text/x-python",
   "name": "python",
   "nbconvert_exporter": "python",
   "pygments_lexer": "ipython3",
   "version": "3.11.7"
  }
 },
 "nbformat": 4,
 "nbformat_minor": 5
}
